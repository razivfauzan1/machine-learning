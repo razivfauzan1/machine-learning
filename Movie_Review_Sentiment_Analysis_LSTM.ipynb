{
  "cells": [
    {
      "cell_type": "markdown",
      "metadata": {
        "id": "view-in-github",
        "colab_type": "text"
      },
      "source": [
        "<a href=\"https://colab.research.google.com/github/razivfauzan1/machine-learning/blob/main/Movie_Review_Sentiment_Analysis_LSTM.ipynb\" target=\"_parent\"><img src=\"https://colab.research.google.com/assets/colab-badge.svg\" alt=\"Open In Colab\"/></a>"
      ]
    },
    {
      "cell_type": "code",
      "execution_count": null,
      "metadata": {
        "_uuid": "75e37e5abb691df18a94631fc63429452b8e3650",
        "id": "SWwpnKFKSYDY",
        "outputId": "7080076d-ee03-4e16-ad86-2d7db044e9ba"
      },
      "outputs": [
        {
          "name": "stderr",
          "output_type": "stream",
          "text": [
            "/Library/Frameworks/Python.framework/Versions/3.6/lib/python3.6/site-packages/tensorflow/python/framework/dtypes.py:493: FutureWarning: Passing (type, 1) or '1type' as a synonym of type is deprecated; in a future version of numpy, it will be understood as (type, (1,)) / '(1,)type'.\n",
            "  _np_qint8 = np.dtype([(\"qint8\", np.int8, 1)])\n",
            "/Library/Frameworks/Python.framework/Versions/3.6/lib/python3.6/site-packages/tensorflow/python/framework/dtypes.py:494: FutureWarning: Passing (type, 1) or '1type' as a synonym of type is deprecated; in a future version of numpy, it will be understood as (type, (1,)) / '(1,)type'.\n",
            "  _np_quint8 = np.dtype([(\"quint8\", np.uint8, 1)])\n",
            "/Library/Frameworks/Python.framework/Versions/3.6/lib/python3.6/site-packages/tensorflow/python/framework/dtypes.py:495: FutureWarning: Passing (type, 1) or '1type' as a synonym of type is deprecated; in a future version of numpy, it will be understood as (type, (1,)) / '(1,)type'.\n",
            "  _np_qint16 = np.dtype([(\"qint16\", np.int16, 1)])\n",
            "/Library/Frameworks/Python.framework/Versions/3.6/lib/python3.6/site-packages/tensorflow/python/framework/dtypes.py:496: FutureWarning: Passing (type, 1) or '1type' as a synonym of type is deprecated; in a future version of numpy, it will be understood as (type, (1,)) / '(1,)type'.\n",
            "  _np_quint16 = np.dtype([(\"quint16\", np.uint16, 1)])\n",
            "/Library/Frameworks/Python.framework/Versions/3.6/lib/python3.6/site-packages/tensorflow/python/framework/dtypes.py:497: FutureWarning: Passing (type, 1) or '1type' as a synonym of type is deprecated; in a future version of numpy, it will be understood as (type, (1,)) / '(1,)type'.\n",
            "  _np_qint32 = np.dtype([(\"qint32\", np.int32, 1)])\n",
            "/Library/Frameworks/Python.framework/Versions/3.6/lib/python3.6/site-packages/tensorflow/python/framework/dtypes.py:502: FutureWarning: Passing (type, 1) or '1type' as a synonym of type is deprecated; in a future version of numpy, it will be understood as (type, (1,)) / '(1,)type'.\n",
            "  np_resource = np.dtype([(\"resource\", np.ubyte, 1)])\n",
            "Using TensorFlow backend.\n"
          ]
        }
      ],
      "source": [
        "seed = 0\n",
        "\n",
        "import random\n",
        "import numpy as np\n",
        "from tensorflow import set_random_seed\n",
        "\n",
        "random.seed(seed)\n",
        "np.random.seed(seed)\n",
        "set_random_seed(seed)\n",
        "\n",
        "\n",
        "from keras.preprocessing import sequence,text\n",
        "from keras.preprocessing.text import Tokenizer\n",
        "from keras.models import Sequential\n",
        "from keras.layers import Dense,Dropout,Embedding,LSTM,Conv1D,GlobalMaxPooling1D,Flatten,MaxPooling1D,GRU,SpatialDropout1D,Bidirectional\n",
        "from keras.callbacks import EarlyStopping\n",
        "from keras.utils import to_categorical\n",
        "from keras.losses import categorical_crossentropy\n",
        "from keras.optimizers import Adam"
      ]
    },
    {
      "cell_type": "markdown",
      "metadata": {
        "_uuid": "04ac3fb55c1d2f9ce60384b240fe1b5e445020e9",
        "id": "2zNjeYrmSYDa"
      },
      "source": [
        "Baca data"
      ]
    },
    {
      "cell_type": "code",
      "execution_count": null,
      "metadata": {
        "_cell_guid": "b1076dfc-b9ad-4769-8c92-a6c4dae69d19",
        "_uuid": "8f2839f25d086af736a60e9eeb907d3b93b6e0e5",
        "id": "zbqdE4WKSYDc"
      },
      "outputs": [],
      "source": [
        "import pandas as pd\n",
        "\n",
        "train = pd.read_csv('train.tsv',  sep=\"\\t\")\n",
        "test = pd.read_csv('test.tsv',  sep=\"\\t\")"
      ]
    },
    {
      "cell_type": "code",
      "execution_count": null,
      "metadata": {
        "_uuid": "0261c62c3b24f293de41db76dca8f78caea96c45",
        "id": "ELci4GtZSYDc",
        "outputId": "b92f36db-1be0-43b2-8f82-e72d4db5104f"
      },
      "outputs": [
        {
          "data": {
            "text/html": [
              "<div>\n",
              "<style scoped>\n",
              "    .dataframe tbody tr th:only-of-type {\n",
              "        vertical-align: middle;\n",
              "    }\n",
              "\n",
              "    .dataframe tbody tr th {\n",
              "        vertical-align: top;\n",
              "    }\n",
              "\n",
              "    .dataframe thead th {\n",
              "        text-align: right;\n",
              "    }\n",
              "</style>\n",
              "<table border=\"1\" class=\"dataframe\">\n",
              "  <thead>\n",
              "    <tr style=\"text-align: right;\">\n",
              "      <th></th>\n",
              "      <th>PhraseId</th>\n",
              "      <th>SentenceId</th>\n",
              "      <th>Phrase</th>\n",
              "      <th>Sentiment</th>\n",
              "    </tr>\n",
              "  </thead>\n",
              "  <tbody>\n",
              "    <tr>\n",
              "      <th>0</th>\n",
              "      <td>1</td>\n",
              "      <td>1</td>\n",
              "      <td>A series of escapades demonstrating the adage ...</td>\n",
              "      <td>1</td>\n",
              "    </tr>\n",
              "    <tr>\n",
              "      <th>1</th>\n",
              "      <td>2</td>\n",
              "      <td>1</td>\n",
              "      <td>A series of escapades demonstrating the adage ...</td>\n",
              "      <td>2</td>\n",
              "    </tr>\n",
              "    <tr>\n",
              "      <th>2</th>\n",
              "      <td>3</td>\n",
              "      <td>1</td>\n",
              "      <td>A series</td>\n",
              "      <td>2</td>\n",
              "    </tr>\n",
              "    <tr>\n",
              "      <th>3</th>\n",
              "      <td>4</td>\n",
              "      <td>1</td>\n",
              "      <td>A</td>\n",
              "      <td>2</td>\n",
              "    </tr>\n",
              "    <tr>\n",
              "      <th>4</th>\n",
              "      <td>5</td>\n",
              "      <td>1</td>\n",
              "      <td>series</td>\n",
              "      <td>2</td>\n",
              "    </tr>\n",
              "  </tbody>\n",
              "</table>\n",
              "</div>"
            ],
            "text/plain": [
              "   PhraseId  SentenceId                                             Phrase  \\\n",
              "0         1           1  A series of escapades demonstrating the adage ...   \n",
              "1         2           1  A series of escapades demonstrating the adage ...   \n",
              "2         3           1                                           A series   \n",
              "3         4           1                                                  A   \n",
              "4         5           1                                             series   \n",
              "\n",
              "   Sentiment  \n",
              "0          1  \n",
              "1          2  \n",
              "2          2  \n",
              "3          2  \n",
              "4          2  "
            ]
          },
          "execution_count": 3,
          "metadata": {},
          "output_type": "execute_result"
        }
      ],
      "source": [
        "train.head()"
      ]
    },
    {
      "cell_type": "markdown",
      "metadata": {
        "_uuid": "85548b537e6fd30cf53fef7edbb5dbac965c15ef",
        "id": "rVO7EpaHSYDd"
      },
      "source": [
        "Menampilkan mean & panjang maksimal dari frase:"
      ]
    },
    {
      "cell_type": "code",
      "execution_count": null,
      "metadata": {
        "_uuid": "79c59246fcf9702a5b4b3dea42f88af5cbed8449",
        "id": "ce6kLCQzSYDd",
        "outputId": "ad1fc418-9314-405d-e84d-e1c706e4ee16"
      },
      "outputs": [
        {
          "data": {
            "text/plain": [
              "40.217224144559786"
            ]
          },
          "execution_count": 4,
          "metadata": {},
          "output_type": "execute_result"
        }
      ],
      "source": [
        "train['Phrase'].str.len().mean()"
      ]
    },
    {
      "cell_type": "code",
      "execution_count": null,
      "metadata": {
        "_uuid": "44be519fad02c4b21187bfbf388c42cdead077ce",
        "id": "NBQU6zCfSYDd",
        "outputId": "8adffdf9-bf1b-45e5-b3e6-456ca4404d9b"
      },
      "outputs": [
        {
          "data": {
            "text/plain": [
              "283"
            ]
          },
          "execution_count": 5,
          "metadata": {},
          "output_type": "execute_result"
        }
      ],
      "source": [
        "train['Phrase'].str.len().max()"
      ]
    },
    {
      "cell_type": "markdown",
      "metadata": {
        "_uuid": "cfef5dcb6e16a7abd62cdacc3451100eba2428ed",
        "id": "xg9XUE_KSYDe"
      },
      "source": [
        "Melihat distribusi sentimen"
      ]
    },
    {
      "cell_type": "code",
      "execution_count": null,
      "metadata": {
        "_uuid": "6770a64f795c74ae6808fbae1ad0ddc188181bda",
        "id": "TYAYKrchSYDe",
        "outputId": "0de8b372-1eaa-4111-9e6b-e731e47c0d86"
      },
      "outputs": [
        {
          "data": {
            "text/plain": [
              "2    79582\n",
              "3    32927\n",
              "1    27273\n",
              "4     9206\n",
              "0     7072\n",
              "Name: Sentiment, dtype: int64"
            ]
          },
          "execution_count": 7,
          "metadata": {},
          "output_type": "execute_result"
        }
      ],
      "source": [
        "train['Sentiment'].value_counts()"
      ]
    },
    {
      "cell_type": "markdown",
      "metadata": {
        "_uuid": "9e83f494ff76dfd424f7b4b8f089849a67a0d5cb",
        "id": "xnA9LFisSYDe"
      },
      "source": [
        "Nilai dari sentimen\n",
        "\n",
        "```\n",
        "0 - negative\n",
        "1 - somewhat negative\n",
        "2 - neutral\n",
        "3 - somewhat positive\n",
        "4 - positive\n",
        "```\n"
      ]
    },
    {
      "cell_type": "code",
      "execution_count": null,
      "metadata": {
        "_uuid": "9de77d1b021b8b009941da1f5eba9271fc7b91d1",
        "id": "OLuqjQO-SYDe"
      },
      "outputs": [],
      "source": [
        "def format_data(train, test, max_features, maxlen):\n",
        "    \"\"\"\n",
        "    Konversi data ke format yang betul.\n",
        "    1) Shuffle\n",
        "    2) Lowercase\n",
        "    3) Sentiments to Categorical\n",
        "    4) Tokenize and Fit\n",
        "    5) Convert to sequence \n",
        "    6) Padding\n",
        "    7) Selesai\n",
        "    \"\"\"\n",
        "    from keras.preprocessing.text import Tokenizer\n",
        "    from keras.preprocessing.sequence import pad_sequences\n",
        "    from keras.utils import to_categorical\n",
        "    \n",
        "    train = train.sample(frac=1).reset_index(drop=True)\n",
        "    train['Phrase'] = train['Phrase'].apply(lambda x: x.lower())\n",
        "    test['Phrase'] = test['Phrase'].apply(lambda x: x.lower())\n",
        "\n",
        "    X = train['Phrase']\n",
        "    test_X = test['Phrase']\n",
        "    Y = to_categorical(train['Sentiment'].values)\n",
        "\n",
        "    tokenizer = Tokenizer(num_words=max_features)\n",
        "    tokenizer.fit_on_texts(list(X))\n",
        "\n",
        "    X = tokenizer.texts_to_sequences(X)\n",
        "    X = pad_sequences(X, maxlen=maxlen)\n",
        "    test_X = tokenizer.texts_to_sequences(test_X)\n",
        "    test_X = pad_sequences(test_X, maxlen=maxlen)\n",
        "\n",
        "    return X, Y, test_X"
      ]
    },
    {
      "cell_type": "code",
      "execution_count": null,
      "metadata": {
        "_uuid": "0cf2b30b50701c41c7da82b285df5edf597647cc",
        "id": "YTph9SmJSYDg"
      },
      "outputs": [],
      "source": [
        "maxlen = 125\n",
        "max_features = 10000\n",
        "\n",
        "X, Y, test_X = format_data(train, test, max_features, maxlen)"
      ]
    },
    {
      "cell_type": "markdown",
      "metadata": {
        "_uuid": "4388e6f9e996e63c6159433e11bac988dc9b88b7",
        "id": "36y1s5aNSYDg"
      },
      "source": [
        "Tampilan data dalam array"
      ]
    },
    {
      "cell_type": "code",
      "execution_count": null,
      "metadata": {
        "_uuid": "f873b10be1a386de642e3f943609793ec3cda0e7",
        "id": "DUxmWjfxSYDh",
        "outputId": "e7161b42-10a1-4fda-e448-e4e84264aad0"
      },
      "outputs": [
        {
          "data": {
            "text/plain": [
              "array([[   0,    0,    0, ...,    0, 1282,   17],\n",
              "       [   0,    0,    0, ...,    0,   71, 2328],\n",
              "       [   0,    0,    0, ...,    0,  296,  545],\n",
              "       ...,\n",
              "       [   0,    0,    0, ...,  230,  659,   39],\n",
              "       [   0,    0,    0, ...,    0,  371, 1156],\n",
              "       [   0,    0,    0, ..., 1871,  197, 1364]], dtype=int32)"
            ]
          },
          "execution_count": 10,
          "metadata": {},
          "output_type": "execute_result"
        }
      ],
      "source": [
        "X"
      ]
    },
    {
      "cell_type": "markdown",
      "metadata": {
        "_uuid": "539b23fa68dea5902ed0916c8c2a1944728bba75",
        "id": "_z5sRvo9SYDh"
      },
      "source": [
        "Zero padding terlihat di sebelah kiri"
      ]
    },
    {
      "cell_type": "code",
      "execution_count": null,
      "metadata": {
        "_uuid": "94f1985ffa34ea803dc9ea0aaca4add9c2aaae60",
        "id": "pZUJJt16SYDh",
        "outputId": "5f6354df-e558-466e-942b-92b57c2c946b"
      },
      "outputs": [
        {
          "data": {
            "text/plain": [
              "array([[0., 0., 1., 0., 0.],\n",
              "       [0., 0., 0., 0., 1.],\n",
              "       [0., 0., 1., 0., 0.],\n",
              "       ...,\n",
              "       [0., 0., 1., 0., 0.],\n",
              "       [0., 0., 0., 1., 0.],\n",
              "       [0., 0., 1., 0., 0.]], dtype=float32)"
            ]
          },
          "execution_count": 11,
          "metadata": {},
          "output_type": "execute_result"
        }
      ],
      "source": [
        "Y"
      ]
    },
    {
      "cell_type": "code",
      "execution_count": null,
      "metadata": {
        "_uuid": "0a99ce6d0ef50c977796c0643913da3d1736d60b",
        "id": "iS6opw47SYDi",
        "outputId": "e65f5f48-5a13-4df4-cda7-c0dd8dadb62a"
      },
      "outputs": [
        {
          "data": {
            "text/plain": [
              "array([[   0,    0,    0, ...,  614, 1024,  390],\n",
              "       [   0,    0,    0, ...,  614, 1024,  390],\n",
              "       [   0,    0,    0, ...,    0,    0,   16],\n",
              "       ...,\n",
              "       [   0,    0,    0, ...,    2,  126, 5973],\n",
              "       [   0,    0,    0, ...,    2,  126, 5973],\n",
              "       [   0,    0,    0, ...,    0,  373, 2009]], dtype=int32)"
            ]
          },
          "execution_count": 12,
          "metadata": {},
          "output_type": "execute_result"
        }
      ],
      "source": [
        "test_X"
      ]
    },
    {
      "cell_type": "markdown",
      "metadata": {
        "_uuid": "7b3ac7da30805589b4c0f3820188f416d194d2ba",
        "id": "48VKtgqmSYDi"
      },
      "source": [
        "Split training set ke training dan validation. Validation digunakan untuk mengetahui apakah model berjalan baik atau tidak"
      ]
    },
    {
      "cell_type": "code",
      "execution_count": null,
      "metadata": {
        "_uuid": "87a8e790a08d921810dc2fe5c38740a905e453d9",
        "id": "QZuhj6SNSYDi"
      },
      "outputs": [],
      "source": [
        "from sklearn.model_selection import train_test_split\n",
        "X_train, X_val, Y_train, Y_val = train_test_split(X, Y, test_size=0.25, random_state=seed)"
      ]
    },
    {
      "cell_type": "code",
      "execution_count": null,
      "metadata": {
        "_uuid": "866799ad61088c89baecb72ff2a0a37bde4a3eaf",
        "id": "Vu5sBddgSYDj",
        "outputId": "5c716067-91a9-4617-81ed-b43bc22e82b4"
      },
      "outputs": [
        {
          "name": "stdout",
          "output_type": "stream",
          "text": [
            "Model: \"sequential_1\"\n",
            "_________________________________________________________________\n",
            "Layer (type)                 Output Shape              Param #   \n",
            "=================================================================\n",
            "embedding_1 (Embedding)      (None, None, 100)         1000000   \n",
            "_________________________________________________________________\n",
            "lstm_1 (LSTM)                (None, None, 64)          42240     \n",
            "_________________________________________________________________\n",
            "lstm_2 (LSTM)                (None, 32)                12416     \n",
            "_________________________________________________________________\n",
            "dense_1 (Dense)              (None, 5)                 165       \n",
            "=================================================================\n",
            "Total params: 1,054,821\n",
            "Trainable params: 1,054,821\n",
            "Non-trainable params: 0\n",
            "_________________________________________________________________\n"
          ]
        }
      ],
      "source": [
        "model = Sequential()\n",
        "\n",
        "\n",
        "model.add(Embedding(max_features,100,mask_zero=True))\n",
        "model.add(LSTM(64,dropout=0.4, recurrent_dropout=0.4,return_sequences=True))\n",
        "model.add(LSTM(32,dropout=0.5, recurrent_dropout=0.5,return_sequences=False))\n",
        "model.add(Dense(5,activation='softmax'))\n",
        "model.compile(loss='categorical_crossentropy',optimizer=Adam(lr=0.001),metrics=['accuracy'])\n",
        "model.summary()\n",
        "\n",
        "\n"
      ]
    },
    {
      "cell_type": "markdown",
      "metadata": {
        "_uuid": "78b5a66785119a37d4b67ce37e2b535475b41e07",
        "id": "2YJbt2_lSYDj"
      },
      "source": [
        "Memulai training\n",
        "\n",
        "Karena ini adalah multi-class classification, maka digunakan fungsi categorical crossentropy pada loss. Optimizer yang dipakai adalah optimizer Adam"
      ]
    },
    {
      "cell_type": "code",
      "execution_count": null,
      "metadata": {
        "_uuid": "eb5e9a193d224c189a7eccfdb39c20668226dce3",
        "id": "L8QdhZQ-SYDj"
      },
      "outputs": [],
      "source": [
        "epochs = 5\n",
        "batch_size = 16"
      ]
    },
    {
      "cell_type": "code",
      "execution_count": 1,
      "metadata": {
        "_uuid": "8c4aee226faf679bc6663d09df69e7dccd169a3a",
        "colab": {
          "base_uri": "https://localhost:8080/",
          "height": 183
        },
        "id": "HWqtUh6fSYDk",
        "outputId": "f04e8dab-bb73-4306-fbe9-334fab37fbec"
      },
      "outputs": [
        {
          "output_type": "error",
          "ename": "NameError",
          "evalue": "ignored",
          "traceback": [
            "\u001b[0;31m---------------------------------------------------------------------------\u001b[0m",
            "\u001b[0;31mNameError\u001b[0m                                 Traceback (most recent call last)",
            "\u001b[0;32m<ipython-input-1-30772051da0b>\u001b[0m in \u001b[0;36m<cell line: 1>\u001b[0;34m()\u001b[0m\n\u001b[0;32m----> 1\u001b[0;31m \u001b[0mmodel\u001b[0m\u001b[0;34m.\u001b[0m\u001b[0mcompile\u001b[0m\u001b[0;34m(\u001b[0m\u001b[0mloss\u001b[0m\u001b[0;34m=\u001b[0m\u001b[0;34m'categorical_crossentropy'\u001b[0m\u001b[0;34m,\u001b[0m \u001b[0moptimizer\u001b[0m\u001b[0;34m=\u001b[0m\u001b[0;34m'adam'\u001b[0m\u001b[0;34m,\u001b[0m \u001b[0mmetrics\u001b[0m\u001b[0;34m=\u001b[0m\u001b[0;34m[\u001b[0m\u001b[0;34m'accuracy'\u001b[0m\u001b[0;34m]\u001b[0m\u001b[0;34m)\u001b[0m\u001b[0;34m\u001b[0m\u001b[0;34m\u001b[0m\u001b[0m\n\u001b[0m\u001b[1;32m      2\u001b[0m \u001b[0mmodel\u001b[0m\u001b[0;34m.\u001b[0m\u001b[0mfit\u001b[0m\u001b[0;34m(\u001b[0m\u001b[0mX_train\u001b[0m\u001b[0;34m,\u001b[0m \u001b[0mY_train\u001b[0m\u001b[0;34m,\u001b[0m \u001b[0mvalidation_data\u001b[0m\u001b[0;34m=\u001b[0m\u001b[0;34m(\u001b[0m\u001b[0mX_val\u001b[0m\u001b[0;34m,\u001b[0m \u001b[0mY_val\u001b[0m\u001b[0;34m)\u001b[0m\u001b[0;34m,\u001b[0m \u001b[0mepochs\u001b[0m\u001b[0;34m=\u001b[0m\u001b[0mepochs\u001b[0m\u001b[0;34m,\u001b[0m \u001b[0mbatch_size\u001b[0m\u001b[0;34m=\u001b[0m\u001b[0mbatch_size\u001b[0m\u001b[0;34m,\u001b[0m \u001b[0mverbose\u001b[0m\u001b[0;34m=\u001b[0m\u001b[0;36m1\u001b[0m\u001b[0;34m)\u001b[0m\u001b[0;34m\u001b[0m\u001b[0;34m\u001b[0m\u001b[0m\n",
            "\u001b[0;31mNameError\u001b[0m: name 'model' is not defined"
          ]
        }
      ],
      "source": [
        "model.compile(loss='categorical_crossentropy', optimizer='adam', metrics=['accuracy'])\n",
        "model.fit(X_train, Y_train, validation_data=(X_val, Y_val), epochs=epochs, batch_size=batch_size, verbose=1)"
      ]
    },
    {
      "cell_type": "markdown",
      "metadata": {
        "_uuid": "969bc9fde2967fdf6bdf3727761dc0a46c2ca7bc",
        "id": "adaI0vzKSYDk"
      },
      "source": [
        "Membuat prediksi di test set dan simpan hasilnya dengan nama file sub_cnn.csv"
      ]
    },
    {
      "cell_type": "code",
      "execution_count": null,
      "metadata": {
        "_uuid": "d7a864588f97c857b121c54de85fe2a9e4c16a00",
        "id": "ZfPCpBYQSYDk"
      },
      "outputs": [],
      "source": [
        "sub = pd.read_csv('sampleSubmission.csv')\n",
        "\n",
        "sub['Sentiment'] = model.predict_classes(test_X, batch_size=batch_size, verbose=1)\n",
        "sub.to_csv('sub_cnn.csv', index=False)"
      ]
    }
  ],
  "metadata": {
    "kernelspec": {
      "display_name": "Python 3",
      "language": "python",
      "name": "python3"
    },
    "language_info": {
      "codemirror_mode": {
        "name": "ipython",
        "version": 3
      },
      "file_extension": ".py",
      "mimetype": "text/x-python",
      "name": "python",
      "nbconvert_exporter": "python",
      "pygments_lexer": "ipython3",
      "version": "3.6.7"
    },
    "colab": {
      "provenance": [],
      "include_colab_link": true
    }
  },
  "nbformat": 4,
  "nbformat_minor": 0
}